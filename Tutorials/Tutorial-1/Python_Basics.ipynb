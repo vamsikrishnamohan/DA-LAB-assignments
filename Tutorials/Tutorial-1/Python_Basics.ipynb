{
  "nbformat": 4,
  "nbformat_minor": 0,
  "metadata": {
    "colab": {
      "provenance": [],
      "toc_visible": true,
      "include_colab_link": true
    },
    "kernelspec": {
      "name": "python3",
      "display_name": "Python 3"
    },
    "language_info": {
      "name": "python"
    }
  },
  "cells": [
    {
      "cell_type": "markdown",
      "metadata": {
        "id": "view-in-github",
        "colab_type": "text"
      },
      "source": [
        "<a href=\"https://colab.research.google.com/github/vamsikrishnamohan/DA-LAB-assignments/blob/main/Tutorials/Tutorial-1/Python_Basics.ipynb\" target=\"_parent\"><img src=\"https://colab.research.google.com/assets/colab-badge.svg\" alt=\"Open In Colab\"/></a>"
      ]
    },
    {
      "cell_type": "code",
      "metadata": {
        "id": "alrXoCflGKM8"
      },
      "source": [
        "import matplotlib.pylab as plt\n",
        "import numpy as np"
      ],
      "execution_count": 1,
      "outputs": []
    },
    {
      "cell_type": "markdown",
      "metadata": {
        "id": "ujfIAOPMb11i"
      },
      "source": [
        "<h1> Python Basics </h1>"
      ]
    },
    {
      "cell_type": "markdown",
      "source": [
        "<h1> 1. Data Structures </h1>"
      ],
      "metadata": {
        "id": "oqSFn0gFJDfA"
      }
    },
    {
      "cell_type": "markdown",
      "source": [
        "<h2> Lists </h2>\n",
        "A list in Python is a sequence of anything!\n"
      ],
      "metadata": {
        "id": "_GRuTTpS-wz1"
      }
    },
    {
      "cell_type": "code",
      "source": [
        "my_list=[1,'a','hello',[1,1,\"hello\"],(1,3,5),{1,2,3}]\n",
        "\n",
        "#accessing the elements of a list\n",
        "print(my_list[1])\n",
        "print(my_list[3][0])\n",
        "print(my_list[3][2][0])\n",
        "print(my_list[-1])\n",
        "print(my_list[-2])"
      ],
      "metadata": {
        "id": "E0atEv9U_HyI"
      },
      "execution_count": null,
      "outputs": []
    },
    {
      "cell_type": "markdown",
      "source": [
        "List Slicing"
      ],
      "metadata": {
        "id": "WkCqNO9q_3QJ"
      }
    },
    {
      "cell_type": "code",
      "source": [
        "print(my_list[:2])\n",
        "print(my_list[2:])\n",
        "print(my_list[2:4])\n",
        "print(my_list[-4:-2])"
      ],
      "metadata": {
        "id": "Y09faxfq_6hR"
      },
      "execution_count": null,
      "outputs": []
    },
    {
      "cell_type": "markdown",
      "source": [
        "Lists are mutable; you can insert and delete elements"
      ],
      "metadata": {
        "id": "S3GeTpG4_oWM"
      }
    },
    {
      "cell_type": "code",
      "source": [
        "my_list[0]=2\n",
        "print(my_list)\n",
        "\n",
        "my_list=my_list+[2]\n",
        "print(my_list)\n",
        "\n",
        "my_list=my_list+[3,4]\n",
        "print(my_list)\n",
        "\n",
        "del my_list[6]\n",
        "print(my_list)\n",
        "\n",
        "del my_list[6:8]\n",
        "print(my_list)"
      ],
      "metadata": {
        "id": "6cVnxlH3AHC7"
      },
      "execution_count": null,
      "outputs": []
    },
    {
      "cell_type": "markdown",
      "source": [
        "List Methods"
      ],
      "metadata": {
        "id": "5Adct5HVAfTV"
      }
    },
    {
      "cell_type": "code",
      "source": [
        "my_list.append(\"append\") #to add only a single element at the end of the list\n",
        "print(my_list)"
      ],
      "metadata": {
        "id": "YkVyl9cAA9OJ"
      },
      "execution_count": null,
      "outputs": []
    },
    {
      "cell_type": "code",
      "source": [
        "my_list.extend([5,6,7])   #to add several items to the list\n",
        "print(my_list)"
      ],
      "metadata": {
        "id": "TeO3MZ0eA_QF"
      },
      "execution_count": null,
      "outputs": []
    },
    {
      "cell_type": "code",
      "source": [
        "print(my_list.pop(2))\t#the item at the given index is removed\n",
        "print(my_list)\t\t#the return value of this function is the indicated item\n",
        "print(my_list.pop())\t#if no argument is passed the last item is removed and returned\n",
        "print(my_list)"
      ],
      "metadata": {
        "id": "1rfsPdp5BLDO"
      },
      "execution_count": null,
      "outputs": []
    },
    {
      "cell_type": "markdown",
      "source": [
        "There are many such methods that you can perform on lists..."
      ],
      "metadata": {
        "id": "io6fCPaOBU2p"
      }
    },
    {
      "cell_type": "code",
      "source": [
        "numlist=[12,2142,1,101,105]\n",
        "numlist.sort()\n",
        "print(numlist)\n",
        "numlist.sort(reverse=True)\n",
        "print(numlist)"
      ],
      "metadata": {
        "id": "f8GwAP9hBrhv"
      },
      "execution_count": null,
      "outputs": []
    },
    {
      "cell_type": "markdown",
      "source": [
        "There is another in-built fn \"sorted\" which takes the list as one of the arguments and it returns the sorted list the other two arguments are similar to that of the sort()"
      ],
      "metadata": {
        "id": "GwEOrmpABtgf"
      }
    },
    {
      "cell_type": "code",
      "source": [
        "print(sorted(numlist))"
      ],
      "metadata": {
        "id": "nyWUtlOuBvuR"
      },
      "execution_count": null,
      "outputs": []
    },
    {
      "cell_type": "markdown",
      "source": [
        "ALIASING LISTS"
      ],
      "metadata": {
        "id": "9N2wYJBhB_98"
      }
    },
    {
      "cell_type": "code",
      "source": [
        "A=[\"cocoa\",1,2]    #A is a variable which refers to the list\n",
        "B=A\t\t   #B is yet another variable which refers to the same list\n",
        "\n",
        "print(\"A is \",A)\n",
        "print(\"B is \",B)\n"
      ],
      "metadata": {
        "id": "DDxVgdhaDIkQ"
      },
      "execution_count": null,
      "outputs": []
    },
    {
      "cell_type": "code",
      "source": [
        "A[0]=\"manjul\"\n",
        "print(\"A is \",A)\n",
        "print(\"B is \",B)"
      ],
      "metadata": {
        "id": "3v5m2NLMDMKR"
      },
      "execution_count": null,
      "outputs": []
    },
    {
      "cell_type": "markdown",
      "source": [
        "This will change the list which is refered to by A which means B is changed as well"
      ],
      "metadata": {
        "id": "9COaFNJkDQCO"
      }
    },
    {
      "cell_type": "markdown",
      "source": [
        "MAKING A CLONE"
      ],
      "metadata": {
        "id": "-49LPtJsDeFz"
      }
    },
    {
      "cell_type": "code",
      "source": [
        "C=A[:]\t\t#This creates a copy of the list and hence C now refers to a different list\n",
        "\n",
        "print(\"A is \",A)\n",
        "print(\"C is \",C)\n"
      ],
      "metadata": {
        "id": "NOw8lK9sDa_z"
      },
      "execution_count": null,
      "outputs": []
    },
    {
      "cell_type": "code",
      "source": [
        "A[0]=\"cocoa\"\t#this will not change the list referred by C\n",
        "print(\"A is \",A)\n",
        "print(\"C is \",C)"
      ],
      "metadata": {
        "id": "T6NjgqatD_pg"
      },
      "execution_count": null,
      "outputs": []
    },
    {
      "cell_type": "code",
      "source": [
        "#We could even do it this way\n",
        "D=A.copy()\n",
        "print(D)"
      ],
      "metadata": {
        "id": "Yi28fnF6D_jp"
      },
      "execution_count": null,
      "outputs": []
    },
    {
      "cell_type": "markdown",
      "source": [
        "LIST COMPREHENSION"
      ],
      "metadata": {
        "id": "z9OnNbOYD0AQ"
      }
    },
    {
      "cell_type": "code",
      "source": [
        "\n",
        "listy=[2**x for x in range(0,10)]\n",
        "print(listy)\n",
        "\n",
        "listy=[2**x for x in range(0,10) if x<5]\t#if statement here is called a filter\n",
        "print(listy)\n",
        "\n"
      ],
      "metadata": {
        "id": "S9q1DyJu-cxb"
      },
      "execution_count": null,
      "outputs": []
    },
    {
      "cell_type": "markdown",
      "source": [
        "<h2> Strings </h2>"
      ],
      "metadata": {
        "id": "1rTsdIStEOvA"
      }
    },
    {
      "cell_type": "code",
      "source": [
        "my_string=\"hello!\"\n",
        "mystr='''dfgdfg\\\n",
        "dgdgdgdg'''\t\t#multi line strings are defined using triple inverted commas\n",
        "\n",
        "print(my_string)\n",
        "print(mystr)\n"
      ],
      "metadata": {
        "id": "waUGsvoxE5-3"
      },
      "execution_count": null,
      "outputs": []
    },
    {
      "cell_type": "markdown",
      "source": [
        "More slicing examples: Guess what each of them would give before printing..."
      ],
      "metadata": {
        "id": "3kEaTd6nGLku"
      }
    },
    {
      "cell_type": "code",
      "source": [
        "string=\"abcdefgh\"\n",
        "\n",
        "print(\"string[2:6:2]\",string[2:6:2])\n",
        "\n",
        "print(\"string[-1::-1]\",string[-1::-1])\n",
        "\n",
        "print(\"string[-1::]\",string[-1::])\n",
        "\n",
        "print(\"string[::]\",string[::])\n",
        "\n",
        "print(\"string[::-1]\",string[::-1])\n"
      ],
      "metadata": {
        "id": "P7C3Z8SvFhYN"
      },
      "execution_count": null,
      "outputs": []
    },
    {
      "cell_type": "markdown",
      "source": [
        "slicing is very much similar to that of lists\n",
        "\n",
        "strings are IMMUTABLE i.e. they cannot be changed and only entire deletion is possible"
      ],
      "metadata": {
        "id": "aqhfW0WaFHQj"
      }
    },
    {
      "cell_type": "markdown",
      "source": [
        "<h2> Tuples </h2>"
      ],
      "metadata": {
        "id": "_ex1rEwgGawe"
      }
    },
    {
      "cell_type": "code",
      "source": [
        "#creating tuples\n",
        "my_tuple=\"hello\",1,2\n",
        "print(my_tuple)\n",
        "my_tuple=(\"hello\",1,3)\n",
        "print(my_tuple)\n"
      ],
      "metadata": {
        "id": "9EK91R6jGnWs"
      },
      "execution_count": null,
      "outputs": []
    },
    {
      "cell_type": "markdown",
      "source": [
        "indexing and slicing are same as that of lists\n",
        "\n",
        "\n",
        "TUPLES ARE IMMUTABLE"
      ],
      "metadata": {
        "id": "nTaaBVO3GttQ"
      }
    },
    {
      "cell_type": "markdown",
      "source": [
        "<h2> Sets </h2>\n",
        "DEFINITION:an unordered collection of items which are unique(no duplicates) and immutable.\n"
      ],
      "metadata": {
        "id": "_z8X6bmVG0Dp"
      }
    },
    {
      "cell_type": "code",
      "source": [
        "#sets cannot have lists,sets or dictionaries as its elements\n",
        "#Creating sets\n",
        "my_set={1,'a','hola',(2,3,4),1}\n",
        "\n",
        "print(my_set)\n"
      ],
      "metadata": {
        "id": "pU8wxeBdGy2C"
      },
      "execution_count": null,
      "outputs": []
    },
    {
      "cell_type": "markdown",
      "source": [
        "<h2>Dictionaries</h2>"
      ],
      "metadata": {
        "id": "zlHae6oeHT-O"
      }
    },
    {
      "cell_type": "markdown",
      "source": [
        "DEFINITION: Dictionaries are also unordered collection like sets , for each item it has a key and its corresponding value pair.    key:value\n",
        "\n",
        "Values can be any datatypes\n",
        "\n",
        "But KEYS must be IMMUTABLE like numbers or strings or tuples(inside which also only immutable data types are allowed) and further the keys are to be UNIQUE  \n",
        "\n"
      ],
      "metadata": {
        "id": "9-7EhxXQHo6h"
      }
    },
    {
      "cell_type": "code",
      "source": [
        "#creating dictionaries\n",
        "my_dict={1:23,'a':'hello',\"hi\":{1:'a',2:'e'},(1,2):[(1,3),'s']}"
      ],
      "metadata": {
        "id": "mN0EZQvcHZSy"
      },
      "execution_count": null,
      "outputs": []
    },
    {
      "cell_type": "code",
      "source": [
        "my_dict1 = dict([(1,'apple'), (2,'ball')])\t#converted a list(in proper format) to dictionary"
      ],
      "metadata": {
        "id": "PiOXb3EdIXvH"
      },
      "execution_count": null,
      "outputs": []
    },
    {
      "cell_type": "markdown",
      "source": [
        "Please feel free to experiment these data structures and their methods. And then you can move to the exercises below."
      ],
      "metadata": {
        "id": "xrMq7SiVHzd3"
      }
    },
    {
      "cell_type": "markdown",
      "source": [
        "<h1> 2. Functions </h1>"
      ],
      "metadata": {
        "id": "NCKbF-k8I_jX"
      }
    },
    {
      "cell_type": "markdown",
      "metadata": {
        "id": "qe9H4zT1b5fN"
      },
      "source": [
        "**Exercise #1 :** Fibonacci sequence\n",
        "\n",
        "A Fibonacci sequence is the integer sequence of 0, 1, 1, 2, 3, 5, 8. The first two terms are 0 and 1. All other terms are obtained by adding the preceding two terms.This means to say the nth term is the sum of (n-1)th and (n-2)th term.\n",
        "\n",
        "**Your Task**: Implement the functions `recur_fibo`"
      ]
    },
    {
      "cell_type": "code",
      "metadata": {
        "id": "zP9ueOPUb2Yz",
        "outputId": "8de87d64-3ae8-4612-8f07-c1e2028065f3",
        "colab": {
          "base_uri": "https://localhost:8080/"
        }
      },
      "source": [
        "def recur_fibo(n):\n",
        "    if n <= 0:\n",
        "        return []\n",
        "    elif n == 1:\n",
        "        return [0]\n",
        "    elif n == 2:\n",
        "        return [0, 1]\n",
        "    else:\n",
        "        fib = recur_fibo(n - 1)\n",
        "        fib.append(fib[-1] + fib[-2])\n",
        "        return fib\n",
        "\n",
        "nterms = 10\n",
        "recur_fibo(nterms)# display the Fibonacci sequence up to n-th term\n",
        "\n",
        "# check if the number of terms is valid\n",
        "for i in range(1,nterms+1):\n",
        "  print(f'{i}th term is {recur_fibo(i)}')"
      ],
      "execution_count": 2,
      "outputs": [
        {
          "output_type": "stream",
          "name": "stdout",
          "text": [
            "1th term is [0]\n",
            "2th term is [0, 1]\n",
            "3th term is [0, 1, 1]\n",
            "4th term is [0, 1, 1, 2]\n",
            "5th term is [0, 1, 1, 2, 3]\n",
            "6th term is [0, 1, 1, 2, 3, 5]\n",
            "7th term is [0, 1, 1, 2, 3, 5, 8]\n",
            "8th term is [0, 1, 1, 2, 3, 5, 8, 13]\n",
            "9th term is [0, 1, 1, 2, 3, 5, 8, 13, 21]\n",
            "10th term is [0, 1, 1, 2, 3, 5, 8, 13, 21, 34]\n"
          ]
        }
      ]
    },
    {
      "cell_type": "markdown",
      "metadata": {
        "id": "knaJKaldfhMC"
      },
      "source": [
        "**Exercise #2:** Lambda function\n",
        "\n",
        "A lambda function is a small anonymous function that can take any number of arguments, but can only have one expression.\n",
        "\n",
        "**Your Task**: Implement Lambda function for `sigmoid_lambda` and `relu_lambda` whose definition is given below:\n",
        "\n",
        "$$sigmoid(x)=\\frac{1}{1+e^x}$$\n",
        "$$ReLU(x)=x^+ = max{(0,x)}$$"
      ]
    },
    {
      "cell_type": "code",
      "metadata": {
        "id": "WaHJERI5fvrh",
        "outputId": "f89b2dbe-4486-4c31-d29e-882c5727c19b",
        "colab": {
          "base_uri": "https://localhost:8080/"
        }
      },
      "source": [
        "def sigmoid(x):\n",
        "  sigmoid = 1 / (1 + np.exp(-x))\n",
        "  return sigmoid\n",
        "\n",
        "## Implement the above sigmoid function using python lambda functions\n",
        "## YOUR CODE STARTS HERE\n",
        "sigmoid_lambda = lambda x: 1 / (1 + np.exp(-x))\n",
        "## YOUR CODE ENDS HERE\n",
        "\n",
        "assert sigmoid(10)==sigmoid_lambda(10)\n",
        "\n",
        "print(sigmoid_lambda(100))"
      ],
      "execution_count": 3,
      "outputs": [
        {
          "output_type": "stream",
          "name": "stdout",
          "text": [
            "1.0\n"
          ]
        }
      ]
    },
    {
      "cell_type": "code",
      "metadata": {
        "id": "7P5FQQz-hPcI",
        "outputId": "ad4c9fc4-a771-4ec8-f989-a2cecf76d62a",
        "colab": {
          "base_uri": "https://localhost:8080/"
        }
      },
      "source": [
        "def relu(x):\n",
        "  relu = x if x>0 else 0\n",
        "  return relu\n",
        "\n",
        "## Implement the above sigmoid function using python lambda functions\n",
        "## YOUR CODE STARTS HERE\n",
        "relu_lambda=lambda x: x if x>0 else 0\n",
        "## YOUR CODE ENDS HERE\n",
        "assert relu(10)==relu_lambda(10)\n",
        "\n",
        "print(relu_lambda(-1))"
      ],
      "execution_count": 4,
      "outputs": [
        {
          "output_type": "stream",
          "name": "stdout",
          "text": [
            "0\n"
          ]
        }
      ]
    },
    {
      "cell_type": "markdown",
      "metadata": {
        "id": "KeA4VNsth4tQ"
      },
      "source": [
        "**Exercise #3:** Python map keyword\n",
        "\n",
        "**Your Task**: Using the lambda functions and python's map keyword apply `sigmoid` and `relu` on a list of numbers from -20 to 20.\n",
        "Store the output in a list and print it."
      ]
    },
    {
      "cell_type": "code",
      "metadata": {
        "id": "kN6zQyPch3PT",
        "outputId": "dfc97927-44bc-402f-bc37-ba1b19fb2d30",
        "colab": {
          "base_uri": "https://localhost:8080/",
          "height": 486
        }
      },
      "source": [
        "x_list = [*range(-20,20)]\n",
        "## YOUR CODE STARTS HERE\n",
        "sigmoid_out=list(map(sigmoid_lambda,x_list))\n",
        "## YOUR CODE ENDS HERE\n",
        "print(sigmoid_out)\n",
        "plt.plot(x_list,sigmoid_out)"
      ],
      "execution_count": 16,
      "outputs": [
        {
          "output_type": "stream",
          "name": "stdout",
          "text": [
            "[2.0611536181902037e-09, 5.602796406145941e-09, 1.522997951276035e-08, 4.1399375473943306e-08, 1.12535162055095e-07, 3.059022269256247e-07, 8.315280276641321e-07, 2.2603242979035746e-06, 6.144174602214718e-06, 1.670142184809518e-05, 4.5397868702434395e-05, 0.00012339457598623172, 0.0003353501304664781, 0.0009110511944006454, 0.0024726231566347743, 0.0066928509242848554, 0.01798620996209156, 0.04742587317756678, 0.11920292202211755, 0.2689414213699951, 0.5, 0.7310585786300049, 0.8807970779778823, 0.9525741268224334, 0.9820137900379085, 0.9933071490757153, 0.9975273768433653, 0.9990889488055994, 0.9996646498695336, 0.9998766054240137, 0.9999546021312976, 0.999983298578152, 0.9999938558253978, 0.999997739675702, 0.9999991684719722, 0.999999694097773, 0.9999998874648379, 0.9999999586006244, 0.9999999847700205, 0.9999999943972036]\n"
          ]
        },
        {
          "output_type": "execute_result",
          "data": {
            "text/plain": [
              "[<matplotlib.lines.Line2D at 0x7f0b1d04ea50>]"
            ]
          },
          "metadata": {},
          "execution_count": 16
        },
        {
          "output_type": "display_data",
          "data": {
            "text/plain": [
              "<Figure size 640x480 with 1 Axes>"
            ],
            "image/png": "[encoded data removed]"
          },
          "metadata": {}
        }
      ]
    },
    {
      "cell_type": "code",
      "metadata": {
        "id": "mDLEqXh2iLMf",
        "outputId": "341de444-7820-441c-f633-0148d9064fef",
        "colab": {
          "base_uri": "https://localhost:8080/",
          "height": 466
        }
      },
      "source": [
        "x_list = [*range(-20,20)]\n",
        "## YOUR CODE STARTS HERE\n",
        "relu_out=list(map(relu_lambda,x_list))\n",
        "## YOUR CODE ENDS HERE\n",
        "print(relu_out)\n",
        "plt.plot(x_list,relu_out)"
      ],
      "execution_count": 15,
      "outputs": [
        {
          "output_type": "stream",
          "name": "stdout",
          "text": [
            "[0, 0, 0, 0, 0, 0, 0, 0, 0, 0, 0, 0, 0, 0, 0, 0, 0, 0, 0, 0, 0, 1, 2, 3, 4, 5, 6, 7, 8, 9, 10, 11, 12, 13, 14, 15, 16, 17, 18, 19]\n"
          ]
        },
        {
          "output_type": "execute_result",
          "data": {
            "text/plain": [
              "[<matplotlib.lines.Line2D at 0x7f0b1dc1a210>]"
            ]
          },
          "metadata": {},
          "execution_count": 15
        },
        {
          "output_type": "display_data",
          "data": {
            "text/plain": [
              "<Figure size 640x480 with 1 Axes>"
            ],
            "image/png": "[encoded data removed]"
          },
          "metadata": {}
        }
      ]
    },
    {
      "cell_type": "markdown",
      "source": [
        "**Exercise #4:** On Data structures\n",
        "\n",
        "**Your Task**: You are given a paragraph as a string. Write a function to return a sorted dictionary with keys as the set of words and the corresponding values as their frequency in the paragraph"
      ],
      "metadata": {
        "id": "-dobg1NJLrUc"
      }
    },
    {
      "cell_type": "code",
      "source": [
        "def count_word_frequency(paragraph):\n",
        "    # Convert the paragraph to lowercase to ensure case-insensitivity\n",
        "    paragraph = paragraph.lower()\n",
        "\n",
        "\n",
        "    # Split the paragraph into words\n",
        "    words = paragraph.split()\n",
        "\n",
        "    # Initialize an empty dictionary to store word frequencies\n",
        "    word_freq = {}\n",
        "\n",
        "    # Write a for loop to update the frequencies of each word\n",
        "    ## YOUR CODE STARTS HERE\n",
        "    for word in words:\n",
        "        word = word.strip(\",.?!\")  # Remove common punctuation from words\n",
        "        if word in word_freq:\n",
        "            word_freq[word] += 1\n",
        "        else:\n",
        "            word_freq[word] = 1\n",
        "    ## YOUR CODE ENDS HERE\n",
        "\n",
        "    return dict(sorted(word_freq.items(), key=lambda item: item[1], reverse=True))\n"
      ],
      "metadata": {
        "id": "2QqqW13jNUcW"
      },
      "execution_count": 9,
      "outputs": []
    },
    {
      "cell_type": "code",
      "source": [
        "# Test the function\n",
        "paragraph = \"\"\"\n",
        "Language is a fundamental aspect of human communication. It allows us to convey ideas, emotions, and information to one another. From spoken words to written texts, language takes various forms, each with its unique beauty. The evolution of languages has been a fascinating journey, shaped by cultural interactions and historical events.\n",
        "\n",
        "English, one of the most widely spoken languages globally , has a rich history. It originated in England and gradually spread across the world due to colonization and globalization. Today, it serves as a lingua franca for international business, diplomacy, and academia. Its flexibility and adaptability have contributed to its widespread adoption.\n",
        "\n",
        "Languages are not just a means of communication; they also shape the way we think and perceive the world. Linguists study the intricate structures and grammar of languages to understand how they influence cognition. Each language reflects the culture and values of its speakers, carrying the weight of their history.\n",
        "\n",
        "As technology advances , language continues to evolve. New words and phrases emerge, reflecting modern trends and innovations. The internet , with its global reach, has played a significant role in disseminating languages and creating new digital communication styles.\n",
        "\n",
        "Preserving endangered languages is an essential endeavor to maintain cultural diversity. Many languages are at risk of disappearing as fewer speakers pass them on to the next generation. Efforts are being made to document and revitalize endangered languages, recognizing their significance in preserving unique cultural heritage.\n",
        "\n",
        "In conclusion , language is a powerful tool that shapes human interactions and defines cultures. It is a bridge that connects people across the world, fostering understanding and empathy. As we cherish and celebrate linguistic diversity, we embrace the richness of humanity's collective heritage.\n",
        "\"\"\"\n"
      ],
      "metadata": {
        "id": "lOeT7YZNPgci"
      },
      "execution_count": 10,
      "outputs": []
    },
    {
      "cell_type": "code",
      "source": [
        "result = count_word_frequency(paragraph)\n",
        "print(result)"
      ],
      "metadata": {
        "id": "fbi1AzwVPnVt",
        "outputId": "68d4ad33-0082-4ddc-b6f1-c7c1197bff9c",
        "colab": {
          "base_uri": "https://localhost:8080/"
        }
      },
      "execution_count": 11,
      "outputs": [
        {
          "output_type": "stream",
          "name": "stdout",
          "text": [
            "{'and': 16, 'the': 12, 'to': 10, 'of': 9, 'a': 8, 'languages': 8, 'language': 5, 'its': 5, 'is': 4, 'it': 4, '': 4, 'in': 4, 'as': 4, 'has': 3, 'cultural': 3, 'world': 3, 'are': 3, 'we': 3, 'human': 2, 'communication': 2, 'one': 2, 'spoken': 2, 'words': 2, 'each': 2, 'with': 2, 'unique': 2, 'interactions': 2, 'history': 2, 'across': 2, 'they': 2, 'speakers': 2, 'their': 2, 'new': 2, 'preserving': 2, 'endangered': 2, 'diversity': 2, 'heritage': 2, 'that': 2, 'fundamental': 1, 'aspect': 1, 'allows': 1, 'us': 1, 'convey': 1, 'ideas': 1, 'emotions': 1, 'information': 1, 'another': 1, 'from': 1, 'written': 1, 'texts': 1, 'takes': 1, 'various': 1, 'forms': 1, 'beauty': 1, 'evolution': 1, 'been': 1, 'fascinating': 1, 'journey': 1, 'shaped': 1, 'by': 1, 'historical': 1, 'events': 1, 'english': 1, 'most': 1, 'widely': 1, 'globally': 1, 'rich': 1, 'originated': 1, 'england': 1, 'gradually': 1, 'spread': 1, 'due': 1, 'colonization': 1, 'globalization': 1, 'today': 1, 'serves': 1, 'lingua': 1, 'franca': 1, 'for': 1, 'international': 1, 'business': 1, 'diplomacy': 1, 'academia': 1, 'flexibility': 1, 'adaptability': 1, 'have': 1, 'contributed': 1, 'widespread': 1, 'adoption': 1, 'not': 1, 'just': 1, 'means': 1, 'communication;': 1, 'also': 1, 'shape': 1, 'way': 1, 'think': 1, 'perceive': 1, 'linguists': 1, 'study': 1, 'intricate': 1, 'structures': 1, 'grammar': 1, 'understand': 1, 'how': 1, 'influence': 1, 'cognition': 1, 'reflects': 1, 'culture': 1, 'values': 1, 'carrying': 1, 'weight': 1, 'technology': 1, 'advances': 1, 'continues': 1, 'evolve': 1, 'phrases': 1, 'emerge': 1, 'reflecting': 1, 'modern': 1, 'trends': 1, 'innovations': 1, 'internet': 1, 'global': 1, 'reach': 1, 'played': 1, 'significant': 1, 'role': 1, 'disseminating': 1, 'creating': 1, 'digital': 1, 'styles': 1, 'an': 1, 'essential': 1, 'endeavor': 1, 'maintain': 1, 'many': 1, 'at': 1, 'risk': 1, 'disappearing': 1, 'fewer': 1, 'pass': 1, 'them': 1, 'on': 1, 'next': 1, 'generation': 1, 'efforts': 1, 'being': 1, 'made': 1, 'document': 1, 'revitalize': 1, 'recognizing': 1, 'significance': 1, 'conclusion': 1, 'powerful': 1, 'tool': 1, 'shapes': 1, 'defines': 1, 'cultures': 1, 'bridge': 1, 'connects': 1, 'people': 1, 'fostering': 1, 'understanding': 1, 'empathy': 1, 'cherish': 1, 'celebrate': 1, 'linguistic': 1, 'embrace': 1, 'richness': 1, \"humanity's\": 1, 'collective': 1}\n"
          ]
        }
      ]
    },
    {
      "cell_type": "markdown",
      "source": [
        "[OPTIONAL Exercise] Do you observe any mistake in the output? Can u point out which part of the provided code is leading to this mistake and possibly correct it."
      ],
      "metadata": {
        "id": "U3zUDcQnR88t"
      }
    },
    {
      "cell_type": "code",
      "source": [
        "## By striping the punctuation marks in the words we can achieve the correct output"
      ],
      "metadata": {
        "id": "Xty4XaQeRJnO"
      },
      "execution_count": 12,
      "outputs": []
    },
    {
      "cell_type": "markdown",
      "source": [],
      "metadata": {
        "id": "6DJe4X1ugrvo"
      }
    }
  ]
}