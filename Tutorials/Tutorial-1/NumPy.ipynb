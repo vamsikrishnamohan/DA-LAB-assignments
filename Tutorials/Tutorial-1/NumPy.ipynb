{
  "nbformat": 4,
  "nbformat_minor": 0,
  "metadata": {
    "colab": {
      "provenance": [],
      "toc_visible": true,
      "include_colab_link": true
    },
    "kernelspec": {
      "name": "python3",
      "display_name": "Python 3"
    },
    "language_info": {
      "name": "python"
    }
  },
  "cells": [
    {
      "cell_type": "markdown",
      "metadata": {
        "id": "view-in-github",
        "colab_type": "text"
      },
      "source": [
        "<a href=\"https://colab.research.google.com/github/vamsikrishnamohan/DA-LAB-assignments/blob/main/Tutorials/Tutorial-1/NumPy.ipynb\" target=\"_parent\"><img src=\"https://colab.research.google.com/assets/colab-badge.svg\" alt=\"Open In Colab\"/></a>"
      ]
    },
    {
      "cell_type": "code",
      "metadata": {
        "id": "alrXoCflGKM8",
        "outputId": "0faf5c84-b833-4132-9378-0af7e04c6361",
        "colab": {
          "base_uri": "https://localhost:8080/"
        }
      },
      "source": [
        "import numpy as np\n",
        "print(np.__version__)\n",
        "import matplotlib.pylab as plt"
      ],
      "execution_count": 1,
      "outputs": [
        {
          "output_type": "stream",
          "name": "stdout",
          "text": [
            "1.26.4\n"
          ]
        }
      ]
    },
    {
      "cell_type": "markdown",
      "metadata": {
        "id": "C6DUK8dwjExh"
      },
      "source": [
        "# Numpy Basics:\n"
      ]
    },
    {
      "cell_type": "markdown",
      "metadata": {
        "id": "9x-UquUqkMWs"
      },
      "source": [
        "**Exercise #1:** Creating a numpy array with particular value\n",
        "\n",
        "**Your Task** Create a numpy array with size 2*3 with all elements as 5."
      ]
    },
    {
      "cell_type": "code",
      "metadata": {
        "id": "jyhhYUA4kpqj",
        "outputId": "850f83e1-d0fa-4fdc-ece0-f8d5697dcc2a",
        "colab": {
          "base_uri": "https://localhost:8080/"
        }
      },
      "source": [
        "# YOUR CODE STARTS HERE\n",
        "arr=np.ones((2,3))*5\n",
        "# YOUR CODE ENDS HERE\n",
        "print(arr)"
      ],
      "execution_count": 2,
      "outputs": [
        {
          "output_type": "stream",
          "name": "stdout",
          "text": [
            "[[5. 5. 5.]\n",
            " [5. 5. 5.]]\n"
          ]
        }
      ]
    },
    {
      "cell_type": "markdown",
      "metadata": {
        "id": "5NaczYqflEd5"
      },
      "source": [
        "**Exercise #2:** Creating a numpy array with *random* value\n",
        "\n",
        "**Your Task** Create a numpy array with size 2*3 with all random values"
      ]
    },
    {
      "cell_type": "code",
      "metadata": {
        "id": "9H2HQNC9lL-0",
        "outputId": "420c2f6b-d555-4f2d-d412-e74157ef7851",
        "colab": {
          "base_uri": "https://localhost:8080/"
        }
      },
      "source": [
        "# YOUR CODE STARTS HERE\n",
        "\n",
        "rand_arr=np.random.rand(2,3)\n",
        "# YOUR CODE ENDS HERE\n",
        "print(rand_arr)"
      ],
      "execution_count": 6,
      "outputs": [
        {
          "output_type": "stream",
          "name": "stdout",
          "text": [
            "[[0.61256967 0.65820552 0.24903735]\n",
            " [0.58448383 0.08492142 0.87919119]]\n"
          ]
        }
      ]
    },
    {
      "cell_type": "markdown",
      "metadata": {
        "id": "uT4LJPBFldNc"
      },
      "source": [
        "**Exercise #3:** Basic NumPy operatrions\n",
        "\n",
        "**Your Task** For the random array `arr`defined above, find the `sum` of all the elements, `mean`, `maximum` and `minimum` value"
      ]
    },
    {
      "cell_type": "code",
      "metadata": {
        "id": "UDrDaAK4l5gq",
        "outputId": "a4a0953f-3396-4119-f7e5-a4dac4dce03f",
        "colab": {
          "base_uri": "https://localhost:8080/"
        }
      },
      "source": [
        "#YOUR CODE STARTS HERE\n",
        "arr_sum=np.sum(rand_arr)\n",
        "arr_mean=np.mean(rand_arr)\n",
        "arr_max=np.max(rand_arr)\n",
        "arr_min=np.min(rand_arr)\n",
        "#YOUR CODE ENDS HERE\n",
        "\n",
        "print(f'sum: {arr_sum}\\nmean: {arr_mean}\\nmax: {arr_max}\\nmin:{arr_min}')"
      ],
      "execution_count": 13,
      "outputs": [
        {
          "output_type": "stream",
          "name": "stdout",
          "text": [
            "sum: 3.0684089918532607\n",
            "mean: 0.5114014986422101\n",
            "max: 0.8791911909425907\n",
            "min:0.08492142385235046\n"
          ]
        }
      ]
    },
    {
      "cell_type": "markdown",
      "metadata": {
        "id": "JzoFSwHjl3dW"
      },
      "source": [
        "**Exercise #4:** `argmin` and `argmax`\n",
        "\n",
        "**Your Task** For the random array `arr`defined below:\n",
        "\n",
        "*   Find the position of maximum and minimum value of above array\n",
        "*   Find the indices of maximum and minimum value along each of its columns.\n",
        "*   Find the indices of maximum and minimum value along each of the its rows.\n",
        "\n"
      ]
    },
    {
      "cell_type": "code",
      "metadata": {
        "id": "VBawwx5KmpZR",
        "outputId": "39b7b749-ed49-4f59-fc87-6b15a1efeaae",
        "colab": {
          "base_uri": "https://localhost:8080/"
        }
      },
      "source": [
        "# Define an array\n",
        "arr = np.array([[5,12,51,25] ,[25,29,2,27]])\n",
        "print(f'Array:\\n{arr}\\n')\n",
        "# YOUR CODE STARTS HERE\n",
        "#Find the position of maximum and minimum value of above array\n",
        "max_indices_columns = np.argmax(arr, axis=0)\n",
        "min_indices_columns = np.argmin(arr, axis=0)\n",
        "print(\"Indices of maximum value along columns:\", max_indices_columns)\n",
        "print(\"Indices of minimum value along columns:\", min_indices_columns)\n",
        "\n",
        "#Find the indices of maximum and minimum value along each of the its rows.\n",
        "max_indices_rows = np.argmax(arr, axis=1)\n",
        "min_indices_rows = np.argmin(arr, axis=1)\n",
        "print(\"Indices of maximum value along rows:\", max_indices_rows)\n",
        "print(\"Indices of minimum value along rows:\", min_indices_rows)\n",
        "#YOUR CODE ENDS HERE"
      ],
      "execution_count": 36,
      "outputs": [
        {
          "output_type": "stream",
          "name": "stdout",
          "text": [
            "Array:\n",
            "[[ 5 12 51 25]\n",
            " [25 29  2 27]]\n",
            "\n",
            "Indices of maximum value along columns: [1 1 0 1]\n",
            "Indices of minimum value along columns: [0 0 1 0]\n",
            "Indices of maximum value along rows: [2 1]\n",
            "Indices of minimum value along rows: [0 2]\n"
          ]
        }
      ]
    },
    {
      "cell_type": "markdown",
      "source": [
        "Numpy Arrays vs. Python Lists?\n",
        "\n",
        "    Why the need for numpy arrays? Can't we just use Python lists?\n",
        "    Iterating over numpy arrays is slow. Slicing is faster\n",
        "\n",
        "Python lists may contain items of different types. This flexibility comes at a price: Python lists store pointers to memory locations. On the other hand, numpy arrays are typed, where the default type is floating point. Because of this, the system knows how much memory to allocate, and if you ask for an array of size 100, it will allocate one hundred contiguous spots in memory, where the size of each spot is based on the type. This makes access extremely fast.\n",
        "\n",
        "\n",
        "If you want to know more, we will suggest that you read this from [Jake Vanderplas's Data Science Handbook](https://jakevdp.github.io/PythonDataScienceHandbook/). You will find that book an incredible resource for learning numpy, pandas and plotting. All the lessons are available as colab notebooks so that u can try out the commands on your own."
      ],
      "metadata": {
        "id": "c6EJuS1SbEuX"
      }
    }
  ]
}